{
  "nbformat": 4,
  "nbformat_minor": 0,
  "metadata": {
    "colab": {
      "name": "CIFAR 10 (CNN)",
      "provenance": [],
      "collapsed_sections": [],
      "authorship_tag": "ABX9TyNo1TG8+WNI+XjZ/8IdnfYq",
      "include_colab_link": true
    },
    "kernelspec": {
      "name": "python3",
      "display_name": "Python 3"
    }
  },
  "cells": [
    {
      "cell_type": "markdown",
      "metadata": {
        "id": "view-in-github",
        "colab_type": "text"
      },
      "source": [
        "<a href=\"https://colab.research.google.com/github/zyberg2091/CV-tutorials/blob/master/Image%20Classification/CIFAR_10_(CNN).ipynb\" target=\"_parent\"><img src=\"https://colab.research.google.com/assets/colab-badge.svg\" alt=\"Open In Colab\"/></a>"
      ]
    },
    {
      "cell_type": "code",
      "metadata": {
        "id": "GBPvmHpEUP49",
        "colab": {
          "base_uri": "https://localhost:8080/",
          "height": 34
        },
        "outputId": "a58f7fb1-d3fe-45be-f070-11a1625c8e9c"
      },
      "source": [
        "%tensorflow_version 2.x"
      ],
      "execution_count": null,
      "outputs": [
        {
          "output_type": "stream",
          "text": [
            "TensorFlow 2.x selected.\n"
          ],
          "name": "stdout"
        }
      ]
    },
    {
      "cell_type": "code",
      "metadata": {
        "id": "PGQGFC_lUfS6"
      },
      "source": [
        "import numpy as np\n",
        "import matplotlib.pyplot as plt\n",
        "from tensorflow.keras.layers import Input,Dense,Dropout,Flatten,Conv2D"
      ],
      "execution_count": null,
      "outputs": []
    },
    {
      "cell_type": "code",
      "metadata": {
        "id": "Ci_7hl5gQSRQ"
      },
      "source": [
        "from tensorflow.keras.models import Model"
      ],
      "execution_count": null,
      "outputs": []
    },
    {
      "cell_type": "code",
      "metadata": {
        "id": "rn63DIQRQZXQ"
      },
      "source": [
        "import tensorflow as tf\n",
        "cifar10=tf.keras.datasets.cifar10\n",
        "\n",
        "(x_train,y_train),(x_test,y_test)=cifar10.load_data()"
      ],
      "execution_count": null,
      "outputs": []
    },
    {
      "cell_type": "code",
      "metadata": {
        "id": "n4aZRDbeQ57b",
        "colab": {
          "base_uri": "https://localhost:8080/",
          "height": 34
        },
        "outputId": "15cb6d88-8bc2-4183-ba0c-5feca8c764ee"
      },
      "source": [
        "x_train.shape,x_test.shape"
      ],
      "execution_count": null,
      "outputs": [
        {
          "output_type": "execute_result",
          "data": {
            "text/plain": [
              "((50000, 32, 32, 3), (10000, 32, 32, 3))"
            ]
          },
          "metadata": {
            "tags": []
          },
          "execution_count": 11
        }
      ]
    },
    {
      "cell_type": "code",
      "metadata": {
        "id": "38YRTECZRnsq",
        "colab": {
          "base_uri": "https://localhost:8080/",
          "height": 34
        },
        "outputId": "925294c9-9c2e-47b9-f4a7-e53ae8025a88"
      },
      "source": [
        "np.unique(y_train)"
      ],
      "execution_count": null,
      "outputs": [
        {
          "output_type": "execute_result",
          "data": {
            "text/plain": [
              "array([0, 1, 2, 3, 4, 5, 6, 7, 8, 9], dtype=uint8)"
            ]
          },
          "metadata": {
            "tags": []
          },
          "execution_count": 13
        }
      ]
    },
    {
      "cell_type": "code",
      "metadata": {
        "id": "almCdniqR2LF",
        "colab": {
          "base_uri": "https://localhost:8080/",
          "height": 283
        },
        "outputId": "22afbe82-68d9-40e9-d881-b35db83b1175"
      },
      "source": [
        "i=np.random.randint(1,10000)\n",
        "plt.imshow(x_train[i])\n",
        "print(x_train[i].shape)"
      ],
      "execution_count": null,
      "outputs": [
        {
          "output_type": "stream",
          "text": [
            "(32, 32, 3)\n"
          ],
          "name": "stdout"
        },
        {
          "output_type": "display_data",
          "data": {
            "image/png": "[encoded data removed]",
            "text/plain": [
              "<Figure size 432x288 with 1 Axes>"
            ]
          },
          "metadata": {
            "tags": []
          }
        }
      ]
    },
    {
      "cell_type": "code",
      "metadata": {
        "id": "t8OqJ6X3Xx9W",
        "colab": {
          "base_uri": "https://localhost:8080/",
          "height": 34
        },
        "outputId": "483d01df-19ca-4899-b1cc-186f30b26b1d"
      },
      "source": [
        "k=len(np.unique(y_train))\n",
        "k"
      ],
      "execution_count": null,
      "outputs": [
        {
          "output_type": "execute_result",
          "data": {
            "text/plain": [
              "10"
            ]
          },
          "metadata": {
            "tags": []
          },
          "execution_count": 56
        }
      ]
    },
    {
      "cell_type": "code",
      "metadata": {
        "id": "oF_HGT37SUio"
      },
      "source": [
        "#builiding model\n",
        "i=Input(shape=x_train[0].shape)\n",
        "x=Conv2D(32,(3,3),strides=2,activation='relu')(i)\n",
        "x=Conv2D(64,(3,3),strides=2,activation='relu')(x)\n",
        "x=Conv2D(128,(3,3),strides=2,activation='relu')(x)\n",
        "x=Flatten()(x)\n",
        "x=Dropout(0.5)(x)\n",
        "x=Dense(1024,activation='relu')(x)\n",
        "x=Dropout(0.2)(x)\n",
        "x=Dense(k,activation='softmax')(x)\n",
        "\n",
        "model=Model(i,x)\n",
        "model.compile(optimizer='adam',loss='sparse_categorical_crossentropy',metrics=['accuracy'])\n",
        "\n"
      ],
      "execution_count": null,
      "outputs": []
    },
    {
      "cell_type": "code",
      "metadata": {
        "id": "QjYjkl6RSavw",
        "colab": {
          "base_uri": "https://localhost:8080/",
          "height": 527
        },
        "outputId": "0412ea48-dccc-465a-e448-be93785e5b7a"
      },
      "source": [
        "r=model.fit(x_train,y_train,validation_data=(x_test,y_test),epochs=15)"
      ],
      "execution_count": null,
      "outputs": [
        {
          "output_type": "stream",
          "text": [
            "Epoch 1/15\n",
            "1563/1563 [==============================] - 47s 30ms/step - loss: 1.2863 - accuracy: 0.5453 - val_loss: 1.2761 - val_accuracy: 0.5445\n",
            "Epoch 2/15\n",
            "1563/1563 [==============================] - 47s 30ms/step - loss: 1.2529 - accuracy: 0.5535 - val_loss: 1.2412 - val_accuracy: 0.5705\n",
            "Epoch 3/15\n",
            "1563/1563 [==============================] - 47s 30ms/step - loss: 1.2296 - accuracy: 0.5673 - val_loss: 1.2032 - val_accuracy: 0.5854\n",
            "Epoch 4/15\n",
            "1563/1563 [==============================] - 47s 30ms/step - loss: 1.2076 - accuracy: 0.5725 - val_loss: 1.2023 - val_accuracy: 0.6002\n",
            "Epoch 5/15\n",
            "1563/1563 [==============================] - 47s 30ms/step - loss: 1.2023 - accuracy: 0.5776 - val_loss: 1.2349 - val_accuracy: 0.5770\n",
            "Epoch 6/15\n",
            "1563/1563 [==============================] - 46s 30ms/step - loss: 1.1797 - accuracy: 0.5860 - val_loss: 1.1951 - val_accuracy: 0.5775\n",
            "Epoch 7/15\n",
            "1563/1563 [==============================] - 46s 30ms/step - loss: 1.1749 - accuracy: 0.5890 - val_loss: 1.2587 - val_accuracy: 0.5497\n",
            "Epoch 8/15\n",
            "1563/1563 [==============================] - 46s 30ms/step - loss: 1.1527 - accuracy: 0.5961 - val_loss: 1.2541 - val_accuracy: 0.5582\n",
            "Epoch 9/15\n",
            "1563/1563 [==============================] - 46s 30ms/step - loss: 1.1569 - accuracy: 0.5955 - val_loss: 1.2098 - val_accuracy: 0.5748\n",
            "Epoch 10/15\n",
            "1563/1563 [==============================] - 47s 30ms/step - loss: 1.1286 - accuracy: 0.6038 - val_loss: 1.3569 - val_accuracy: 0.5309\n",
            "Epoch 11/15\n",
            "1563/1563 [==============================] - 46s 30ms/step - loss: 1.1220 - accuracy: 0.6084 - val_loss: 1.1886 - val_accuracy: 0.5848\n",
            "Epoch 12/15\n",
            "1563/1563 [==============================] - 47s 30ms/step - loss: 1.1154 - accuracy: 0.6114 - val_loss: 1.2011 - val_accuracy: 0.5906\n",
            "Epoch 13/15\n",
            "1563/1563 [==============================] - 47s 30ms/step - loss: 1.1145 - accuracy: 0.6122 - val_loss: 1.2041 - val_accuracy: 0.5779\n",
            "Epoch 14/15\n",
            "1563/1563 [==============================] - 47s 30ms/step - loss: 1.1038 - accuracy: 0.6123 - val_loss: 1.1878 - val_accuracy: 0.5834\n",
            "Epoch 15/15\n",
            "1563/1563 [==============================] - 46s 30ms/step - loss: 1.0775 - accuracy: 0.6232 - val_loss: 1.1821 - val_accuracy: 0.5800\n"
          ],
          "name": "stdout"
        }
      ]
    },
    {
      "cell_type": "code",
      "metadata": {
        "id": "6RhQm5gqu2Lq",
        "colab": {
          "base_uri": "https://localhost:8080/",
          "height": 34
        },
        "outputId": "412c69aa-a7ad-4d99-9370-054f5b5b0f4f"
      },
      "source": [
        "type(cifar10)"
      ],
      "execution_count": null,
      "outputs": [
        {
          "output_type": "execute_result",
          "data": {
            "text/plain": [
              "module"
            ]
          },
          "metadata": {
            "tags": []
          },
          "execution_count": 88
        }
      ]
    },
    {
      "cell_type": "code",
      "metadata": {
        "id": "aM_Wn097wz1i",
        "colab": {
          "base_uri": "https://localhost:8080/",
          "height": 282
        },
        "outputId": "cadcb04d-8117-4327-8f8e-2621f6e49bad"
      },
      "source": [
        "plt.plot(r.history['loss'],label='loss')\n",
        "plt.plot(r.history['val_loss'],label='=val_loss')\n",
        "plt.legend()"
      ],
      "execution_count": null,
      "outputs": [
        {
          "output_type": "execute_result",
          "data": {
            "text/plain": [
              "<matplotlib.legend.Legend at 0x7fa8d37ca470>"
            ]
          },
          "metadata": {
            "tags": []
          },
          "execution_count": 89
        },
        {
          "output_type": "display_data",
          "data": {
            "image/png": "[encoded data removed]",
            "text/plain": [
              "<Figure size 432x288 with 1 Axes>"
            ]
          },
          "metadata": {
            "tags": []
          }
        }
      ]
    },
    {
      "cell_type": "code",
      "metadata": {
        "id": "4ZUZhq1_8N5E"
      },
      "source": [
        "y_pred=model.predict(x_test).argmax(axis=1)"
      ],
      "execution_count": null,
      "outputs": []
    },
    {
      "cell_type": "code",
      "metadata": {
        "id": "58q0rnIWz5wy"
      },
      "source": [
        "labels=['airplane','automobile','bird','cat','deer','dog','frog','horse','ship','truck']\n",
        "y_test=y_test.reshape(-1)"
      ],
      "execution_count": null,
      "outputs": []
    },
    {
      "cell_type": "code",
      "metadata": {
        "id": "8U8pSHWJ8EBE",
        "colab": {
          "base_uri": "https://localhost:8080/",
          "height": 283
        },
        "outputId": "9983b16d-38c4-4a30-a441-8bb8f56d8956"
      },
      "source": [
        "#missclassified examples \n",
        "p=np.where(y_test!=y_pred)[0]\n",
        "i=np.random.choice(p)\n",
        "plt.imshow(x_test[i])\n",
        "print(\"Actual: %s , predicted: %s\" % (labels[int(y_test[i])],labels[int(y_pred[i])]))"
      ],
      "execution_count": null,
      "outputs": [
        {
          "output_type": "stream",
          "text": [
            "Actual: horse , predicted: cat\n"
          ],
          "name": "stdout"
        },
        {
          "output_type": "display_data",
          "data": {
            "image/png": "[encoded data removed]",
            "text/plain": [
              "<Figure size 432x288 with 1 Axes>"
            ]
          },
          "metadata": {
            "tags": []
          }
        }
      ]
    },
    {
      "cell_type": "code",
      "metadata": {
        "id": "9DtPeG2Z8fGD"
      },
      "source": [
        ""
      ],
      "execution_count": null,
      "outputs": []
    },
    {
      "cell_type": "code",
      "metadata": {
        "id": "hkfbw34j8gqb"
      },
      "source": [
        "p=np.where(y_test!=y_pred)[0]"
      ],
      "execution_count": null,
      "outputs": []
    },
    {
      "cell_type": "code",
      "metadata": {
        "id": "Gm46A_MZ_WnV",
        "colab": {
          "base_uri": "https://localhost:8080/",
          "height": 34
        },
        "outputId": "a208da32-b588-4a77-e14d-27414b319c08"
      },
      "source": [
        "p=np.array(p)\n",
        "p.shape"
      ],
      "execution_count": null,
      "outputs": [
        {
          "output_type": "execute_result",
          "data": {
            "text/plain": [
              "(4200,)"
            ]
          },
          "metadata": {
            "tags": []
          },
          "execution_count": 125
        }
      ]
    },
    {
      "cell_type": "code",
      "metadata": {
        "id": "TzqUxv8J_YLV",
        "colab": {
          "base_uri": "https://localhost:8080/",
          "height": 34
        },
        "outputId": "e65e44d6-7c78-41f4-abf5-ae361ba909bc"
      },
      "source": [
        "y_pred.shape,y_test.shape\n"
      ],
      "execution_count": null,
      "outputs": [
        {
          "output_type": "execute_result",
          "data": {
            "text/plain": [
              "((10000,), (10000,))"
            ]
          },
          "metadata": {
            "tags": []
          },
          "execution_count": 129
        }
      ]
    },
    {
      "cell_type": "code",
      "metadata": {
        "id": "U-z-EHvc_gSm"
      },
      "source": [
        ""
      ],
      "execution_count": null,
      "outputs": []
    }
  ]
}