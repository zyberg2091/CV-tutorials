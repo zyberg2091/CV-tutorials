{
  "nbformat": 4,
  "nbformat_minor": 0,
  "metadata": {
    "colab": {
      "name": "Fashion MNIST(CNN model)",
      "provenance": [],
      "collapsed_sections": [],
      "authorship_tag": "ABX9TyMUGhJqvVFpWAPUpAaA4k9H",
      "include_colab_link": true
    },
    "kernelspec": {
      "name": "python3",
      "display_name": "Python 3"
    },
    "accelerator": "GPU"
  },
  "cells": [
    {
      "cell_type": "markdown",
      "metadata": {
        "id": "view-in-github",
        "colab_type": "text"
      },
      "source": [
        "<a href=\"https://colab.research.google.com/github/zyberg2091/CV-tutorials/blob/master/Image%20Classification/Fashion_MNIST(CNN_model).ipynb\" target=\"_parent\"><img src=\"https://colab.research.google.com/assets/colab-badge.svg\" alt=\"Open In Colab\"/></a>"
      ]
    },
    {
      "cell_type": "code",
      "metadata": {
        "id": "UIMYOBCs7c_D"
      },
      "source": [
        "%tensorflow_version 2.x"
      ],
      "execution_count": null,
      "outputs": []
    },
    {
      "cell_type": "code",
      "metadata": {
        "id": "hRAkVAJb7m5C"
      },
      "source": [
        "import numpy as np\n",
        "from tensorflow.keras.layers import Input,Conv2D,Dense,Flatten,Dropout\n",
        "from tensorflow.keras.models import Model\n",
        "import matplotlib.pyplot as plt\n"
      ],
      "execution_count": null,
      "outputs": []
    },
    {
      "cell_type": "code",
      "metadata": {
        "id": "hDr2I3xihGgj"
      },
      "source": [
        "import tensorflow as tf"
      ],
      "execution_count": null,
      "outputs": []
    },
    {
      "cell_type": "code",
      "metadata": {
        "colab": {
          "base_uri": "https://localhost:8080/",
          "height": 35
        },
        "id": "qC9ceLQGInrs",
        "outputId": "a3b78413-6f72-41c2-d3af-49a91591c5f1"
      },
      "source": [
        "tf.test.gpu_device_name()"
      ],
      "execution_count": null,
      "outputs": [
        {
          "output_type": "execute_result",
          "data": {
            "application/vnd.google.colaboratory.intrinsic+json": {
              "type": "string"
            },
            "text/plain": [
              "'/device:GPU:0'"
            ]
          },
          "metadata": {
            "tags": []
          },
          "execution_count": 5
        }
      ]
    },
    {
      "cell_type": "code",
      "metadata": {
        "colab": {
          "base_uri": "https://localhost:8080/"
        },
        "id": "cQN9Lhf_I827",
        "outputId": "deeb60de-850a-497d-cb12-db710a47dd2a"
      },
      "source": [
        "mirrored_strategy = tf.distribute.MirroredStrategy(devices=[\"/gpu:0\", \"/gpu:1\"])\r\n",
        "mirrored_strategy"
      ],
      "execution_count": null,
      "outputs": [
        {
          "output_type": "stream",
          "text": [
            "WARNING:tensorflow:Some requested devices in `tf.distribute.Strategy` are not visible to TensorFlow: /job:localhost/replica:0/task:0/device:GPU:0,/job:localhost/replica:0/task:0/device:GPU:1\n",
            "INFO:tensorflow:Using MirroredStrategy with devices ('/job:localhost/replica:0/task:0/device:GPU:0', '/job:localhost/replica:0/task:0/device:GPU:1')\n"
          ],
          "name": "stdout"
        },
        {
          "output_type": "execute_result",
          "data": {
            "text/plain": [
              "<tensorflow.python.distribute.mirrored_strategy.MirroredStrategy at 0x7f012df9af60>"
            ]
          },
          "metadata": {
            "tags": []
          },
          "execution_count": 6
        }
      ]
    },
    {
      "cell_type": "code",
      "metadata": {
        "id": "NA5ZGARg-BBP",
        "colab": {
          "base_uri": "https://localhost:8080/"
        },
        "outputId": "bbf18048-2233-4300-faa0-3419072318eb"
      },
      "source": [
        "data=tf.keras.datasets.fashion_mnist\n",
        "(x_train,y_train),(x_test,y_test)=data.load_data()"
      ],
      "execution_count": null,
      "outputs": [
        {
          "output_type": "stream",
          "text": [
            "Downloading data from https://storage.googleapis.com/tensorflow/tf-keras-datasets/train-labels-idx1-ubyte.gz\n",
            "32768/29515 [=================================] - 0s 0us/step\n",
            "Downloading data from https://storage.googleapis.com/tensorflow/tf-keras-datasets/train-images-idx3-ubyte.gz\n",
            "26427392/26421880 [==============================] - 0s 0us/step\n",
            "Downloading data from https://storage.googleapis.com/tensorflow/tf-keras-datasets/t10k-labels-idx1-ubyte.gz\n",
            "8192/5148 [===============================================] - 0s 0us/step\n",
            "Downloading data from https://storage.googleapis.com/tensorflow/tf-keras-datasets/t10k-images-idx3-ubyte.gz\n",
            "4423680/4422102 [==============================] - 0s 0us/step\n"
          ],
          "name": "stdout"
        }
      ]
    },
    {
      "cell_type": "code",
      "metadata": {
        "id": "6bgXdPY7-9ej",
        "colab": {
          "base_uri": "https://localhost:8080/"
        },
        "outputId": "42a38db2-8f88-4942-c79d-7e9856ec5328"
      },
      "source": [
        "x_train.shape,y_train.shape,x_test.shape,y_test.shape"
      ],
      "execution_count": null,
      "outputs": [
        {
          "output_type": "execute_result",
          "data": {
            "text/plain": [
              "((60000, 28, 28), (60000,), (10000, 28, 28), (10000,))"
            ]
          },
          "metadata": {
            "tags": []
          },
          "execution_count": 8
        }
      ]
    },
    {
      "cell_type": "code",
      "metadata": {
        "id": "1ov7furj_VBR",
        "colab": {
          "base_uri": "https://localhost:8080/"
        },
        "outputId": "0d7f03ed-1d46-445e-80a0-73946d8eee15"
      },
      "source": [
        "np.unique(y_train)"
      ],
      "execution_count": null,
      "outputs": [
        {
          "output_type": "execute_result",
          "data": {
            "text/plain": [
              "array([0, 1, 2, 3, 4, 5, 6, 7, 8, 9], dtype=uint8)"
            ]
          },
          "metadata": {
            "tags": []
          },
          "execution_count": 9
        }
      ]
    },
    {
      "cell_type": "code",
      "metadata": {
        "id": "82DBonVHuuxw"
      },
      "source": [
        "#adding a dimension as convolution accepts onlym3d images\n",
        "\n",
        "x_train,x_test=np.expand_dims(x_train,-1),np.expand_dims(x_test,-1)\n"
      ],
      "execution_count": null,
      "outputs": []
    },
    {
      "cell_type": "code",
      "metadata": {
        "id": "-6l0_gQbvJkW",
        "colab": {
          "base_uri": "https://localhost:8080/"
        },
        "outputId": "5c6211f3-69eb-4357-de0f-f639df65c2e0"
      },
      "source": [
        "x_train.shape,x_test.shape"
      ],
      "execution_count": null,
      "outputs": [
        {
          "output_type": "execute_result",
          "data": {
            "text/plain": [
              "((60000, 28, 28, 1), (10000, 28, 28, 1))"
            ]
          },
          "metadata": {
            "tags": []
          },
          "execution_count": 11
        }
      ]
    },
    {
      "cell_type": "code",
      "metadata": {
        "id": "tVpDtZMp_YzX"
      },
      "source": [
        "#building a model\n",
        "i=Input(shape=x_train[0].shape)\n",
        "x=Conv2D(32, (3,3) ,strides=2,activation='relu')(i)\n",
        "x=Conv2D(64,(3,3),strides=2,activation='relu')(x)\n",
        "x=Conv2D(128,(3,3),strides=2,activation='relu')(x)\n",
        "x=Flatten()(x)\n",
        "x=Dropout(0.2)(x)\n",
        "x=Dense(512,activation='relu')(x)\n",
        "x=Dropout(0.2)(x)\n",
        "x=Dense(10)(x)\n",
        "\n",
        "model=Model(i,x)\n",
        "\n",
        "model.compile(optimizer='adam',loss='sparse_categorical_crossentropy',metrics=['accuracy'])\n"
      ],
      "execution_count": null,
      "outputs": []
    },
    {
      "cell_type": "code",
      "metadata": {
        "colab": {
          "base_uri": "https://localhost:8080/"
        },
        "id": "kgXrR_H52DzN",
        "outputId": "6f8cb8bf-f5f2-484a-ff77-81864230da01"
      },
      "source": [
        "model.summary()"
      ],
      "execution_count": null,
      "outputs": [
        {
          "output_type": "stream",
          "text": [
            "Model: \"model\"\n",
            "_________________________________________________________________\n",
            "Layer (type)                 Output Shape              Param #   \n",
            "=================================================================\n",
            "input_1 (InputLayer)         [(None, 28, 28, 1)]       0         \n",
            "_________________________________________________________________\n",
            "conv2d (Conv2D)              (None, 13, 13, 32)        320       \n",
            "_________________________________________________________________\n",
            "conv2d_1 (Conv2D)            (None, 6, 6, 64)          18496     \n",
            "_________________________________________________________________\n",
            "conv2d_2 (Conv2D)            (None, 2, 2, 128)         73856     \n",
            "_________________________________________________________________\n",
            "flatten (Flatten)            (None, 512)               0         \n",
            "_________________________________________________________________\n",
            "dropout (Dropout)            (None, 512)               0         \n",
            "_________________________________________________________________\n",
            "dense (Dense)                (None, 512)               262656    \n",
            "_________________________________________________________________\n",
            "dropout_1 (Dropout)          (None, 512)               0         \n",
            "_________________________________________________________________\n",
            "dense_1 (Dense)              (None, 10)                5130      \n",
            "=================================================================\n",
            "Total params: 360,458\n",
            "Trainable params: 360,458\n",
            "Non-trainable params: 0\n",
            "_________________________________________________________________\n"
          ],
          "name": "stdout"
        }
      ]
    },
    {
      "cell_type": "code",
      "metadata": {
        "id": "Ttm_g3rHwfYc",
        "colab": {
          "base_uri": "https://localhost:8080/"
        },
        "outputId": "4168e792-3e8a-4c2b-900d-ce14bc4f7796"
      },
      "source": [
        "r=model.fit(x_train,y_train,validation_data=(x_test,y_test),epochs=15)"
      ],
      "execution_count": null,
      "outputs": [
        {
          "output_type": "stream",
          "text": [
            "Epoch 1/15\n",
            "1875/1875 [==============================] - 6s 3ms/step - loss: 2.3032 - accuracy: 0.1180 - val_loss: 2.3026 - val_accuracy: 0.2233\n",
            "Epoch 2/15\n",
            "1875/1875 [==============================] - 5s 3ms/step - loss: 2.3026 - accuracy: 0.1202 - val_loss: 2.3026 - val_accuracy: 0.2233\n",
            "Epoch 3/15\n",
            "1875/1875 [==============================] - 5s 3ms/step - loss: 2.3032 - accuracy: 0.1213 - val_loss: 2.3026 - val_accuracy: 0.2233\n",
            "Epoch 4/15\n",
            "1875/1875 [==============================] - 5s 3ms/step - loss: 2.4390 - accuracy: 0.1076 - val_loss: 2.3026 - val_accuracy: 0.1000\n",
            "Epoch 5/15\n",
            "1875/1875 [==============================] - 5s 3ms/step - loss: 2.3740 - accuracy: 0.1035 - val_loss: 2.3026 - val_accuracy: 0.1000\n",
            "Epoch 6/15\n",
            "1875/1875 [==============================] - 5s 3ms/step - loss: 2.4030 - accuracy: 0.1048 - val_loss: 2.3026 - val_accuracy: 0.1000\n",
            "Epoch 7/15\n",
            "1875/1875 [==============================] - 5s 3ms/step - loss: 2.3243 - accuracy: 0.0972 - val_loss: 2.3026 - val_accuracy: 0.1000\n",
            "Epoch 8/15\n",
            "1875/1875 [==============================] - 5s 3ms/step - loss: 2.3290 - accuracy: 0.1051 - val_loss: 2.3026 - val_accuracy: 0.1000\n",
            "Epoch 9/15\n",
            "1875/1875 [==============================] - 5s 3ms/step - loss: 2.3260 - accuracy: 0.1039 - val_loss: 2.3026 - val_accuracy: 0.1000\n",
            "Epoch 10/15\n",
            "1875/1875 [==============================] - 5s 3ms/step - loss: 2.3212 - accuracy: 0.1039 - val_loss: 2.3026 - val_accuracy: 0.1000\n",
            "Epoch 11/15\n",
            "1875/1875 [==============================] - 5s 3ms/step - loss: 2.3265 - accuracy: 0.1031 - val_loss: 2.3026 - val_accuracy: 0.1000\n",
            "Epoch 12/15\n",
            "1875/1875 [==============================] - 5s 3ms/step - loss: 2.3234 - accuracy: 0.1048 - val_loss: 2.3026 - val_accuracy: 0.1000\n",
            "Epoch 13/15\n",
            "1875/1875 [==============================] - 5s 3ms/step - loss: 2.3230 - accuracy: 0.1020 - val_loss: 2.3026 - val_accuracy: 0.1000\n",
            "Epoch 14/15\n",
            "1875/1875 [==============================] - 5s 3ms/step - loss: 2.3269 - accuracy: 0.1048 - val_loss: 2.3026 - val_accuracy: 0.1000\n",
            "Epoch 15/15\n",
            "1875/1875 [==============================] - 5s 3ms/step - loss: 2.3234 - accuracy: 0.1047 - val_loss: 2.3026 - val_accuracy: 0.1000\n"
          ],
          "name": "stdout"
        }
      ]
    },
    {
      "cell_type": "code",
      "metadata": {
        "id": "-OCJWSStS3xq",
        "colab": {
          "base_uri": "https://localhost:8080/",
          "height": 282
        },
        "outputId": "58644a04-c173-42c6-faa0-521faad9a458"
      },
      "source": [
        "plt.plot(r.history['loss'],label='loss')\n",
        "plt.plot(r.history['val_loss'],label='val_loss')\n",
        "plt.legend()"
      ],
      "execution_count": null,
      "outputs": [
        {
          "output_type": "execute_result",
          "data": {
            "text/plain": [
              "<matplotlib.legend.Legend at 0x7fab20493048>"
            ]
          },
          "metadata": {
            "tags": []
          },
          "execution_count": 16
        },
        {
          "output_type": "display_data",
          "data": {
            "image/png": "[encoded data removed]",
            "text/plain": [
              "<Figure size 432x288 with 1 Axes>"
            ]
          },
          "metadata": {
            "tags": [],
            "needs_background": "light"
          }
        }
      ]
    },
    {
      "cell_type": "code",
      "metadata": {
        "id": "2KEipDFFXvcG",
        "colab": {
          "base_uri": "https://localhost:8080/",
          "height": 282
        },
        "outputId": "8860c89f-5c72-465c-9692-7e3d5feb9c01"
      },
      "source": [
        "plt.plot(r.history['accuracy'],label='accuracy')\n",
        "plt.plot(r.history['val_accuracy'],label='val_accuracy')\n",
        "plt.legend()\n"
      ],
      "execution_count": null,
      "outputs": [
        {
          "output_type": "execute_result",
          "data": {
            "text/plain": [
              "<matplotlib.legend.Legend at 0x7fab20210278>"
            ]
          },
          "metadata": {
            "tags": []
          },
          "execution_count": 17
        },
        {
          "output_type": "display_data",
          "data": {
            "image/png": "[encoded data removed]",
            "text/plain": [
              "<Figure size 432x288 with 1 Axes>"
            ]
          },
          "metadata": {
            "tags": [],
            "needs_background": "light"
          }
        }
      ]
    },
    {
      "cell_type": "code",
      "metadata": {
        "id": "TdPh7uVhgP41",
        "colab": {
          "base_uri": "https://localhost:8080/"
        },
        "outputId": "3b752f49-a325-4277-8d3b-3ddcfcbf8f6a"
      },
      "source": [
        "y_pred=model.predict(x_test)\n",
        "y_pred[1]"
      ],
      "execution_count": null,
      "outputs": [
        {
          "output_type": "execute_result",
          "data": {
            "text/plain": [
              "array([ -59657.188,  -31758.266, -103345.54 ,  -95736.46 ,  -24023.602,\n",
              "        -49555.535, -113520.47 , -121860.82 ,  -19086.637, -102022.086],\n",
              "      dtype=float32)"
            ]
          },
          "metadata": {
            "tags": []
          },
          "execution_count": 19
        }
      ]
    },
    {
      "cell_type": "code",
      "metadata": {
        "id": "QX90ATxNgWMT"
      },
      "source": [
        "y_pred.shape,y_test.shape"
      ],
      "execution_count": null,
      "outputs": []
    },
    {
      "cell_type": "code",
      "metadata": {
        "id": "1sKqS4u9f_m0"
      },
      "source": [
        "from sklearn.metrics import confusion_matrix\n",
        "cm=confusion_matrix(y_pred,y_test)\n",
        "cm"
      ],
      "execution_count": null,
      "outputs": []
    },
    {
      "cell_type": "code",
      "metadata": {
        "id": "1kSn7wLHhiY4"
      },
      "source": [
        "np.unique(y_train)"
      ],
      "execution_count": null,
      "outputs": []
    },
    {
      "cell_type": "code",
      "metadata": {
        "id": "ssFPkW9ThzQv"
      },
      "source": [
        "#label mapping\n",
        "labels='''T-shirts/Top \n",
        "          Trouser \n",
        "          Pullover \n",
        "          Dress \n",
        "          Coat \n",
        "          Sandal \n",
        "          Shirt \n",
        "          Sneaker \n",
        "          Bag \n",
        "          Ankleboot'''.split()"
      ],
      "execution_count": null,
      "outputs": []
    },
    {
      "cell_type": "code",
      "metadata": {
        "id": "gMCfR0NTjEWg"
      },
      "source": [
        "labels"
      ],
      "execution_count": null,
      "outputs": []
    },
    {
      "cell_type": "code",
      "metadata": {
        "id": "46DDbgyupaEe"
      },
      "source": [
        "#missclassified index\n",
        "missclassified=np.where(y_pred!=y_test)[0]\n",
        "print(missclassified)"
      ],
      "execution_count": null,
      "outputs": []
    },
    {
      "cell_type": "code",
      "metadata": {
        "id": "AflAw1ISqKnp"
      },
      "source": [
        "a=np.random.choice(missclassified)\n",
        "plt.imshow(x_test[a].reshape(28,28),cmap='gray')\n",
        "plt.title(\"label: %s , predicted: %s\" % (labels[y_test[a]],labels[y_pred[a]]))"
      ],
      "execution_count": null,
      "outputs": []
    },
    {
      "cell_type": "code",
      "metadata": {
        "id": "-qd8irakdTGV"
      },
      "source": [
        "print(x_test[a])"
      ],
      "execution_count": null,
      "outputs": []
    },
    {
      "cell_type": "code",
      "metadata": {
        "id": "yLtTBwL4rMAf"
      },
      "source": [
        ""
      ],
      "execution_count": null,
      "outputs": []
    }
  ]
}