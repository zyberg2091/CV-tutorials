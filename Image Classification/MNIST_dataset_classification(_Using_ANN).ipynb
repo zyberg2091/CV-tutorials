{
  "nbformat": 4,
  "nbformat_minor": 0,
  "metadata": {
    "colab": {
      "name": " MNIST dataset classification( Using ANN)",
      "provenance": [],
      "collapsed_sections": [],
      "authorship_tag": "ABX9TyOZRLOAWECJUL/WtmxKzONK",
      "include_colab_link": true
    },
    "kernelspec": {
      "name": "python3",
      "display_name": "Python 3"
    }
  },
  "cells": [
    {
      "cell_type": "markdown",
      "metadata": {
        "id": "view-in-github",
        "colab_type": "text"
      },
      "source": [
        "<a href=\"https://colab.research.google.com/github/zyberg2091/CV-tutorials/blob/master/Image%20Classification/MNIST_dataset_classification(_Using_ANN).ipynb\" target=\"_parent\"><img src=\"https://colab.research.google.com/assets/colab-badge.svg\" alt=\"Open In Colab\"/></a>"
      ]
    },
    {
      "cell_type": "code",
      "metadata": {
        "id": "KteUjSA28UWN"
      },
      "source": [
        "import numpy as np"
      ],
      "execution_count": null,
      "outputs": []
    },
    {
      "cell_type": "code",
      "metadata": {
        "id": "X2S2B6g5DSPT",
        "colab": {
          "base_uri": "https://localhost:8080/"
        },
        "outputId": "338b69da-3ddf-4188-85cd-428a8edeb2eb"
      },
      "source": [
        "# !pip install tensorflow==2.1.0\n",
        "import tensorflow as tf\n",
        "print(tf.__version__)"
      ],
      "execution_count": null,
      "outputs": [
        {
          "output_type": "stream",
          "text": [
            "2.4.0\n"
          ],
          "name": "stdout"
        }
      ]
    },
    {
      "cell_type": "code",
      "metadata": {
        "id": "Z-S_mZ0KERXE"
      },
      "source": [
        "data=tf.keras.datasets.mnist "
      ],
      "execution_count": null,
      "outputs": []
    },
    {
      "cell_type": "code",
      "metadata": {
        "id": "K5tr1O33Er8U",
        "colab": {
          "base_uri": "https://localhost:8080/"
        },
        "outputId": "dd9414fb-4531-42cc-87fa-13db3bae6305"
      },
      "source": [
        "type(data)"
      ],
      "execution_count": null,
      "outputs": [
        {
          "output_type": "execute_result",
          "data": {
            "text/plain": [
              "module"
            ]
          },
          "metadata": {
            "tags": []
          },
          "execution_count": 4
        }
      ]
    },
    {
      "cell_type": "code",
      "metadata": {
        "id": "wWNdOz4dEu1e",
        "colab": {
          "base_uri": "https://localhost:8080/"
        },
        "outputId": "9424eefe-65a8-4a16-c727-ceaab0c3b61d"
      },
      "source": [
        "(x_train,y_train),(x_test,y_test)=data.load_data()"
      ],
      "execution_count": null,
      "outputs": [
        {
          "output_type": "stream",
          "text": [
            "Downloading data from https://storage.googleapis.com/tensorflow/tf-keras-datasets/mnist.npz\n",
            "11493376/11490434 [==============================] - 0s 0us/step\n"
          ],
          "name": "stdout"
        }
      ]
    },
    {
      "cell_type": "code",
      "metadata": {
        "id": "2ozyOrI-FE6v",
        "colab": {
          "base_uri": "https://localhost:8080/"
        },
        "outputId": "6af7bd26-6e37-44d8-c587-bfa207fbc152"
      },
      "source": [
        "type(x_train)"
      ],
      "execution_count": null,
      "outputs": [
        {
          "output_type": "execute_result",
          "data": {
            "text/plain": [
              "numpy.ndarray"
            ]
          },
          "metadata": {
            "tags": []
          },
          "execution_count": 6
        }
      ]
    },
    {
      "cell_type": "code",
      "metadata": {
        "id": "GKn7FQSQFSZZ",
        "colab": {
          "base_uri": "https://localhost:8080/"
        },
        "outputId": "7352fc7a-b946-4e3e-95cf-60e5417eff79"
      },
      "source": [
        "np.unique(x_train)"
      ],
      "execution_count": null,
      "outputs": [
        {
          "output_type": "execute_result",
          "data": {
            "text/plain": [
              "array([  0,   1,   2,   3,   4,   5,   6,   7,   8,   9,  10,  11,  12,\n",
              "        13,  14,  15,  16,  17,  18,  19,  20,  21,  22,  23,  24,  25,\n",
              "        26,  27,  28,  29,  30,  31,  32,  33,  34,  35,  36,  37,  38,\n",
              "        39,  40,  41,  42,  43,  44,  45,  46,  47,  48,  49,  50,  51,\n",
              "        52,  53,  54,  55,  56,  57,  58,  59,  60,  61,  62,  63,  64,\n",
              "        65,  66,  67,  68,  69,  70,  71,  72,  73,  74,  75,  76,  77,\n",
              "        78,  79,  80,  81,  82,  83,  84,  85,  86,  87,  88,  89,  90,\n",
              "        91,  92,  93,  94,  95,  96,  97,  98,  99, 100, 101, 102, 103,\n",
              "       104, 105, 106, 107, 108, 109, 110, 111, 112, 113, 114, 115, 116,\n",
              "       117, 118, 119, 120, 121, 122, 123, 124, 125, 126, 127, 128, 129,\n",
              "       130, 131, 132, 133, 134, 135, 136, 137, 138, 139, 140, 141, 142,\n",
              "       143, 144, 145, 146, 147, 148, 149, 150, 151, 152, 153, 154, 155,\n",
              "       156, 157, 158, 159, 160, 161, 162, 163, 164, 165, 166, 167, 168,\n",
              "       169, 170, 171, 172, 173, 174, 175, 176, 177, 178, 179, 180, 181,\n",
              "       182, 183, 184, 185, 186, 187, 188, 189, 190, 191, 192, 193, 194,\n",
              "       195, 196, 197, 198, 199, 200, 201, 202, 203, 204, 205, 206, 207,\n",
              "       208, 209, 210, 211, 212, 213, 214, 215, 216, 217, 218, 219, 220,\n",
              "       221, 222, 223, 224, 225, 226, 227, 228, 229, 230, 231, 232, 233,\n",
              "       234, 235, 236, 237, 238, 239, 240, 241, 242, 243, 244, 245, 246,\n",
              "       247, 248, 249, 250, 251, 252, 253, 254, 255], dtype=uint8)"
            ]
          },
          "metadata": {
            "tags": []
          },
          "execution_count": 7
        }
      ]
    },
    {
      "cell_type": "code",
      "metadata": {
        "id": "du1N-x_HX--3",
        "colab": {
          "base_uri": "https://localhost:8080/"
        },
        "outputId": "d7eaa621-e818-48a6-dcc3-7a359aa49e65"
      },
      "source": [
        "x_train.shape,x_test.shape"
      ],
      "execution_count": null,
      "outputs": [
        {
          "output_type": "execute_result",
          "data": {
            "text/plain": [
              "((60000, 28, 28), (10000, 28, 28))"
            ]
          },
          "metadata": {
            "tags": []
          },
          "execution_count": 8
        }
      ]
    },
    {
      "cell_type": "code",
      "metadata": {
        "id": "1NGVXZXAYq7k",
        "colab": {
          "base_uri": "https://localhost:8080/"
        },
        "outputId": "51b99627-f069-49c9-a974-1cc2bc00e58b"
      },
      "source": [
        "y_train.shape,y_test.shape"
      ],
      "execution_count": null,
      "outputs": [
        {
          "output_type": "execute_result",
          "data": {
            "text/plain": [
              "((60000,), (10000,))"
            ]
          },
          "metadata": {
            "tags": []
          },
          "execution_count": 9
        }
      ]
    },
    {
      "cell_type": "code",
      "metadata": {
        "id": "jqH268a7ZqOA"
      },
      "source": [
        "#scaling\n",
        "x_train,x_test=x_train/255.0,x_test/255.0"
      ],
      "execution_count": null,
      "outputs": []
    },
    {
      "cell_type": "code",
      "metadata": {
        "id": "dtBROgTGaMCo",
        "colab": {
          "base_uri": "https://localhost:8080/"
        },
        "outputId": "2a091651-696a-4472-98ad-b9c8232eb85d"
      },
      "source": [
        "np.unique(y_train)"
      ],
      "execution_count": null,
      "outputs": [
        {
          "output_type": "execute_result",
          "data": {
            "text/plain": [
              "array([0, 1, 2, 3, 4, 5, 6, 7, 8, 9], dtype=uint8)"
            ]
          },
          "metadata": {
            "tags": []
          },
          "execution_count": 11
        }
      ]
    },
    {
      "cell_type": "code",
      "metadata": {
        "id": "R5lRHy3yaQo1",
        "colab": {
          "base_uri": "https://localhost:8080/"
        },
        "outputId": "a78d492d-2329-4d85-f0f7-13bfdfb15559"
      },
      "source": [
        "#build the model\n",
        "import tensorflow as tf\n",
        "model=tf.keras.models.Sequential([tf.keras.layers.Flatten(input_shape=(28,28)),tf.keras.layers.Dense(128,activation='relu'),\n",
        "                                  tf.keras.layers.Dropout(0.2),\n",
        "                                  tf.keras.layers.Dense(10,activation='softmax')])\n",
        "\n",
        "model.summary()"
      ],
      "execution_count": null,
      "outputs": [
        {
          "output_type": "stream",
          "text": [
            "Model: \"sequential\"\n",
            "_________________________________________________________________\n",
            "Layer (type)                 Output Shape              Param #   \n",
            "=================================================================\n",
            "flatten (Flatten)            (None, 784)               0         \n",
            "_________________________________________________________________\n",
            "dense (Dense)                (None, 128)               100480    \n",
            "_________________________________________________________________\n",
            "dropout (Dropout)            (None, 128)               0         \n",
            "_________________________________________________________________\n",
            "dense_1 (Dense)              (None, 10)                1290      \n",
            "=================================================================\n",
            "Total params: 101,770\n",
            "Trainable params: 101,770\n",
            "Non-trainable params: 0\n",
            "_________________________________________________________________\n"
          ],
          "name": "stdout"
        }
      ]
    },
    {
      "cell_type": "code",
      "metadata": {
        "id": "_5mU-UAGgvHm"
      },
      "source": [
        "model.compile(optimizer='adam',loss='sparse_categorical_crossentropy',metrics=['accuracy'])"
      ],
      "execution_count": null,
      "outputs": []
    },
    {
      "cell_type": "code",
      "metadata": {
        "id": "OZpzV-iIhaOZ",
        "colab": {
          "base_uri": "https://localhost:8080/"
        },
        "outputId": "17b2d72c-7070-4622-ba93-3eeacda3a41b"
      },
      "source": [
        "r=model.fit(x_train,y_train,validation_data=(x_test,y_test),epochs=10)"
      ],
      "execution_count": null,
      "outputs": [
        {
          "output_type": "stream",
          "text": [
            "Epoch 1/10\n",
            "1875/1875 [==============================] - 5s 2ms/step - loss: 0.4869 - accuracy: 0.8544 - val_loss: 0.1383 - val_accuracy: 0.9579\n",
            "Epoch 2/10\n",
            "1875/1875 [==============================] - 4s 2ms/step - loss: 0.1465 - accuracy: 0.9569 - val_loss: 0.1033 - val_accuracy: 0.9678\n",
            "Epoch 3/10\n",
            "1875/1875 [==============================] - 4s 2ms/step - loss: 0.1015 - accuracy: 0.9687 - val_loss: 0.0822 - val_accuracy: 0.9736\n",
            "Epoch 4/10\n",
            "1875/1875 [==============================] - 4s 2ms/step - loss: 0.0807 - accuracy: 0.9750 - val_loss: 0.0718 - val_accuracy: 0.9779\n",
            "Epoch 5/10\n",
            "1875/1875 [==============================] - 4s 2ms/step - loss: 0.0680 - accuracy: 0.9791 - val_loss: 0.0741 - val_accuracy: 0.9782\n",
            "Epoch 6/10\n",
            "1875/1875 [==============================] - 4s 2ms/step - loss: 0.0612 - accuracy: 0.9803 - val_loss: 0.0656 - val_accuracy: 0.9800\n",
            "Epoch 7/10\n",
            "1875/1875 [==============================] - 4s 2ms/step - loss: 0.0502 - accuracy: 0.9837 - val_loss: 0.0681 - val_accuracy: 0.9791\n",
            "Epoch 8/10\n",
            "1875/1875 [==============================] - 4s 2ms/step - loss: 0.0488 - accuracy: 0.9840 - val_loss: 0.0666 - val_accuracy: 0.9795\n",
            "Epoch 9/10\n",
            "1875/1875 [==============================] - 4s 2ms/step - loss: 0.0434 - accuracy: 0.9860 - val_loss: 0.0651 - val_accuracy: 0.9794\n",
            "Epoch 10/10\n",
            "1875/1875 [==============================] - 4s 2ms/step - loss: 0.0388 - accuracy: 0.9860 - val_loss: 0.0657 - val_accuracy: 0.9790\n"
          ],
          "name": "stdout"
        }
      ]
    },
    {
      "cell_type": "code",
      "metadata": {
        "id": "oUn0TNKkhwYE",
        "colab": {
          "base_uri": "https://localhost:8080/",
          "height": 282
        },
        "outputId": "5a0552a4-b6b9-4350-f6a6-0670255021ef"
      },
      "source": [
        "import matplotlib.pyplot as plt\n",
        "\n",
        "plt.plot(r.history['val_loss'],label='val_loss')\n",
        "plt.plot(r.history['loss'],label='loss')\n",
        "plt.legend()"
      ],
      "execution_count": null,
      "outputs": [
        {
          "output_type": "execute_result",
          "data": {
            "text/plain": [
              "<matplotlib.legend.Legend at 0x7efc1c185320>"
            ]
          },
          "metadata": {
            "tags": []
          },
          "execution_count": 15
        },
        {
          "output_type": "display_data",
          "data": {
            "image/png": "[encoded data removed]",
            "text/plain": [
              "<Figure size 432x288 with 1 Axes>"
            ]
          },
          "metadata": {
            "tags": [],
            "needs_background": "light"
          }
        }
      ]
    },
    {
      "cell_type": "code",
      "metadata": {
        "id": "WWNv6uMAimRz",
        "colab": {
          "base_uri": "https://localhost:8080/",
          "height": 282
        },
        "outputId": "1009fb78-3a68-4fb1-a381-4412ba46149a"
      },
      "source": [
        "plt.plot(r.history['val_accuracy'],label='val_accuracy')\n",
        "plt.plot(r.history['accuracy'],label='accuracy')\n",
        "plt.legend()"
      ],
      "execution_count": null,
      "outputs": [
        {
          "output_type": "execute_result",
          "data": {
            "text/plain": [
              "<matplotlib.legend.Legend at 0x7efc1ac58b70>"
            ]
          },
          "metadata": {
            "tags": []
          },
          "execution_count": 16
        },
        {
          "output_type": "display_data",
          "data": {
            "image/png": "[encoded data removed]",
            "text/plain": [
              "<Figure size 432x288 with 1 Axes>"
            ]
          },
          "metadata": {
            "tags": [],
            "needs_background": "light"
          }
        }
      ]
    },
    {
      "cell_type": "code",
      "metadata": {
        "colab": {
          "base_uri": "https://localhost:8080/"
        },
        "id": "PtOBlBVbri_s",
        "outputId": "4958b9c2-c88a-47b9-a467-e18ff02edf1a"
      },
      "source": [
        "np.asarray(tf.math.argmax(model(x_test),1))"
      ],
      "execution_count": null,
      "outputs": [
        {
          "output_type": "execute_result",
          "data": {
            "text/plain": [
              "array([7, 2, 1, ..., 4, 5, 6])"
            ]
          },
          "metadata": {
            "tags": []
          },
          "execution_count": 17
        }
      ]
    },
    {
      "cell_type": "code",
      "metadata": {
        "id": "zaQ6v93EkYoG",
        "colab": {
          "base_uri": "https://localhost:8080/"
        },
        "outputId": "d3879877-0583-46a8-8554-7fd0364eaef5"
      },
      "source": [
        "y_pred=model.predict(x_test).argmax(axis=1)\n",
        "len(y_pred)"
      ],
      "execution_count": null,
      "outputs": [
        {
          "output_type": "execute_result",
          "data": {
            "text/plain": [
              "10000"
            ]
          },
          "metadata": {
            "tags": []
          },
          "execution_count": 18
        }
      ]
    },
    {
      "cell_type": "code",
      "metadata": {
        "id": "a6kTXQpwi3-g"
      },
      "source": [
        "#plotting confusion matrix\n",
        "from sklearn.metrics import confusion_matrix\n",
        "cm=confusion_matrix(y_test,y_pred)"
      ],
      "execution_count": null,
      "outputs": []
    },
    {
      "cell_type": "code",
      "metadata": {
        "id": "rovz7VUKlFCj",
        "colab": {
          "base_uri": "https://localhost:8080/"
        },
        "outputId": "070aa85d-63ab-442d-ba9e-4c1b360a1220"
      },
      "source": [
        "cm"
      ],
      "execution_count": null,
      "outputs": [
        {
          "output_type": "execute_result",
          "data": {
            "text/plain": [
              "array([[ 969,    1,    1,    0,    0,    2,    3,    1,    2,    1],\n",
              "       [   0, 1122,    3,    1,    0,    1,    2,    1,    5,    0],\n",
              "       [   1,    1, 1011,    4,    2,    0,    0,    3,   10,    0],\n",
              "       [   0,    0,    3,  990,    0,    5,    0,    5,    3,    4],\n",
              "       [   2,    0,    4,    0,  957,    0,    4,    2,    1,   12],\n",
              "       [   2,    0,    0,    5,    2,  874,    3,    1,    4,    1],\n",
              "       [   4,    3,    0,    1,    4,    4,  940,    0,    2,    0],\n",
              "       [   2,    4,   13,    2,    0,    0,    0, 1000,    1,    6],\n",
              "       [   2,    0,    5,    3,    4,    4,    2,    2,  949,    3],\n",
              "       [   2,    4,    1,    6,    8,    5,    0,    4,    1,  978]])"
            ]
          },
          "metadata": {
            "tags": []
          },
          "execution_count": 20
        }
      ]
    },
    {
      "cell_type": "code",
      "metadata": {
        "id": "xfiznUDLj6yA",
        "colab": {
          "base_uri": "https://localhost:8080/"
        },
        "outputId": "68f42e28-25a6-4405-da08-547bf84f280c"
      },
      "source": [
        "y_pred.shape"
      ],
      "execution_count": null,
      "outputs": [
        {
          "output_type": "execute_result",
          "data": {
            "text/plain": [
              "(10000,)"
            ]
          },
          "metadata": {
            "tags": []
          },
          "execution_count": 21
        }
      ]
    },
    {
      "cell_type": "code",
      "metadata": {
        "id": "W4qk7qTCt0NS",
        "colab": {
          "base_uri": "https://localhost:8080/",
          "height": 298
        },
        "outputId": "e9e3452e-004c-44b8-8304-65fd5419bf64"
      },
      "source": [
        "#misclassified classifications\n",
        "misclassified_index=np.where(y_test!=y_pred)\n",
        "i=np.random.choice(misclassified_index[0])\n",
        "plt.imshow(x_test[i],cmap='gray')\n",
        "plt.title(\"True label: %s , predicted: %s\" % (y_test[i],y_pred[i]))\n"
      ],
      "execution_count": null,
      "outputs": [
        {
          "output_type": "execute_result",
          "data": {
            "text/plain": [
              "Text(0.5, 1.0, 'True label: 4 , predicted: 7')"
            ]
          },
          "metadata": {
            "tags": []
          },
          "execution_count": 22
        },
        {
          "output_type": "display_data",
          "data": {
            "image/png": "[encoded data removed]",
            "text/plain": [
              "<Figure size 432x288 with 1 Axes>"
            ]
          },
          "metadata": {
            "tags": [],
            "needs_background": "light"
          }
        }
      ]
    },
    {
      "cell_type": "code",
      "metadata": {
        "id": "8TZGauSXv2h8",
        "colab": {
          "base_uri": "https://localhost:8080/"
        },
        "outputId": "63bd3b3c-fcbe-4f45-a0a6-83b0ef69346d"
      },
      "source": [
        "misclassified_index"
      ],
      "execution_count": null,
      "outputs": [
        {
          "output_type": "execute_result",
          "data": {
            "text/plain": [
              "(array([ 115,  247,  259,  320,  321,  340,  381,  445,  495,  582,  613,\n",
              "         619,  691,  720,  740,  810,  846,  944,  947,  951,  956, 1014,\n",
              "        1039, 1044, 1112, 1156, 1178, 1181, 1194, 1226, 1232, 1242, 1247,\n",
              "        1260, 1299, 1319, 1328, 1393, 1414, 1441, 1494, 1522, 1530, 1549,\n",
              "        1553, 1609, 1621, 1681, 1709, 1751, 1754, 1790, 1800, 1901, 1941,\n",
              "        1982, 1987, 2004, 2016, 2024, 2040, 2053, 2070, 2098, 2109, 2118,\n",
              "        2129, 2130, 2135, 2182, 2189, 2280, 2293, 2326, 2369, 2387, 2406,\n",
              "        2414, 2422, 2447, 2488, 2607, 2648, 2654, 2758, 2877, 2939, 2953,\n",
              "        2995, 3005, 3073, 3117, 3422, 3475, 3490, 3503, 3520, 3558, 3559,\n",
              "        3567, 3597, 3604, 3751, 3757, 3776, 3780, 3796, 3808, 3817, 3818,\n",
              "        3853, 3869, 3876, 3893, 3906, 3941, 3943, 3985, 4065, 4078, 4140,\n",
              "        4163, 4176, 4199, 4201, 4224, 4248, 4289, 4294, 4355, 4360, 4382,\n",
              "        4384, 4419, 4433, 4443, 4497, 4504, 4536, 4601, 4635, 4690, 4731,\n",
              "        4740, 4807, 4823, 4833, 4880, 4890, 4943, 4966, 5331, 5457, 5642,\n",
              "        5676, 5734, 5757, 5888, 5926, 5936, 5937, 5955, 5973, 6011, 6023,\n",
              "        6059, 6166, 6174, 6532, 6555, 6560, 6571, 6572, 6576, 6597, 6625,\n",
              "        6632, 6651, 6755, 6783, 6847, 7434, 7732, 7899, 8094, 8325, 8410,\n",
              "        8520, 8522, 8527, 9009, 9015, 9019, 9024, 9071, 9163, 9280, 9587,\n",
              "        9634, 9664, 9669, 9679, 9700, 9726, 9729, 9745, 9749, 9770, 9811,\n",
              "        9839]),)"
            ]
          },
          "metadata": {
            "tags": []
          },
          "execution_count": 23
        }
      ]
    },
    {
      "cell_type": "code",
      "metadata": {
        "id": "z0cb_0-Qv5oN",
        "colab": {
          "base_uri": "https://localhost:8080/"
        },
        "outputId": "77757453-e7a6-4b8c-b800-aa39f71521eb"
      },
      "source": [
        "model.save(' MNIST dataset classification( Using ANN)')"
      ],
      "execution_count": null,
      "outputs": [
        {
          "output_type": "stream",
          "text": [
            "INFO:tensorflow:Assets written to:  MNIST dataset classification( Using ANN)/assets\n"
          ],
          "name": "stdout"
        }
      ]
    },
    {
      "cell_type": "code",
      "metadata": {
        "id": "W7hH5T0o_LQP"
      },
      "source": [
        "z=tf.keras.layers.Flatten(input_shape=(28,28))"
      ],
      "execution_count": null,
      "outputs": []
    },
    {
      "cell_type": "code",
      "metadata": {
        "colab": {
          "base_uri": "https://localhost:8080/"
        },
        "id": "GVBhHsaeyD7Q",
        "outputId": "04313775-a6d5-40d6-bb35-60b332fffae8"
      },
      "source": [
        "!pip install coremltools"
      ],
      "execution_count": null,
      "outputs": [
        {
          "output_type": "stream",
          "text": [
            "Collecting coremltools\n",
            "\u001b[?25l  Downloading https://files.pythonhosted.org/packages/f1/30/32f5bce33571b00f8e43e290bb4a9561956bc7f35b96dcd48f300029b23f/coremltools-4.0-cp36-none-manylinux1_x86_64.whl (3.4MB)\n",
            "\u001b[K     |████████████████████████████████| 3.4MB 9.1MB/s \n",
            "\u001b[?25hRequirement already satisfied: attrs in /usr/local/lib/python3.6/dist-packages (from coremltools) (20.3.0)\n",
            "Requirement already satisfied: numpy>=1.14.5 in /usr/local/lib/python3.6/dist-packages (from coremltools) (1.19.4)\n",
            "Collecting attr\n",
            "  Downloading https://files.pythonhosted.org/packages/de/be/ddc7f84d4e087144472a38a373d3e319f51a6faf6e5fc1ae897173675f21/attr-0.3.1.tar.gz\n",
            "Requirement already satisfied: scipy in /usr/local/lib/python3.6/dist-packages (from coremltools) (1.4.1)\n",
            "Requirement already satisfied: sympy in /usr/local/lib/python3.6/dist-packages (from coremltools) (1.1.1)\n",
            "Requirement already satisfied: protobuf>=3.1.0 in /usr/local/lib/python3.6/dist-packages (from coremltools) (3.12.4)\n",
            "Requirement already satisfied: six>=1.10.0 in /usr/local/lib/python3.6/dist-packages (from coremltools) (1.15.0)\n",
            "Requirement already satisfied: tqdm in /usr/local/lib/python3.6/dist-packages (from coremltools) (4.41.1)\n",
            "Requirement already satisfied: packaging in /usr/local/lib/python3.6/dist-packages (from coremltools) (20.8)\n",
            "Requirement already satisfied: mpmath>=0.19 in /usr/local/lib/python3.6/dist-packages (from sympy->coremltools) (1.1.0)\n",
            "Requirement already satisfied: setuptools in /usr/local/lib/python3.6/dist-packages (from protobuf>=3.1.0->coremltools) (51.1.1)\n",
            "Requirement already satisfied: pyparsing>=2.0.2 in /usr/local/lib/python3.6/dist-packages (from packaging->coremltools) (2.4.7)\n",
            "Building wheels for collected packages: attr\n",
            "  Building wheel for attr (setup.py) ... \u001b[?25l\u001b[?25hdone\n",
            "  Created wheel for attr: filename=attr-0.3.1-cp36-none-any.whl size=2459 sha256=67ffd89c0fec2fc6c37b796df4235c5916701adec70a4929d2a637337761c232\n",
            "  Stored in directory: /root/.cache/pip/wheels/f0/96/9b/1f8892a707d17095b5a6eab0275da9d39e68e03a26aee2e726\n",
            "Successfully built attr\n",
            "Installing collected packages: attr, coremltools\n",
            "Successfully installed attr-0.3.1 coremltools-4.0\n"
          ],
          "name": "stdout"
        }
      ]
    },
    {
      "cell_type": "code",
      "metadata": {
        "colab": {
          "base_uri": "https://localhost:8080/"
        },
        "id": "S_mBs-sIyL3W",
        "outputId": "eb1df37c-e115-4d76-833a-f62b0b15000b"
      },
      "source": [
        "import coremltools as ct"
      ],
      "execution_count": null,
      "outputs": [
        {
          "output_type": "stream",
          "text": [
            "WARNING:root:scikit-learn version 0.22.2.post1 is not supported. Minimum required version: 0.17. Maximum required version: 0.19.2. Disabling scikit-learn conversion API.\n",
            "WARNING:root:TensorFlow version 2.4.0 detected. Last version known to be fully compatible is 2.3.1 .\n",
            "WARNING:root:Keras version 2.4.3 detected. Last version known to be fully compatible of Keras is 2.2.4 .\n"
          ],
          "name": "stderr"
        }
      ]
    },
    {
      "cell_type": "code",
      "metadata": {
        "id": "BZLT2W6t3xSL",
        "colab": {
          "base_uri": "https://localhost:8080/"
        },
        "outputId": "d9fb76df-24e2-4e2b-85ed-212b7fd93667"
      },
      "source": [
        "m=ct.convert(model, source='tensorflow')"
      ],
      "execution_count": null,
      "outputs": [
        {
          "output_type": "stream",
          "text": [
            "Running TensorFlow Graph Passes: 100%|██████████| 5/5 [00:00<00:00, 31.22 passes/s]\n",
            "Converting Frontend ==> MIL Ops: 100%|██████████| 14/14 [00:00<00:00, 874.57 ops/s]\n",
            "Running MIL optimization passes: 100%|██████████| 17/17 [00:00<00:00, 849.06 passes/s]\n",
            "Translating MIL ==> MLModel Ops: 100%|██████████| 11/11 [00:00<00:00, 618.84 ops/s]\n"
          ],
          "name": "stderr"
        }
      ]
    },
    {
      "cell_type": "code",
      "metadata": {
        "id": "lSL0xSvm7q7p",
        "colab": {
          "base_uri": "https://localhost:8080/"
        },
        "outputId": "c9c63b1b-d3b0-4422-c73e-092b16765ed8"
      },
      "source": [
        "type(m)"
      ],
      "execution_count": null,
      "outputs": [
        {
          "output_type": "execute_result",
          "data": {
            "text/plain": [
              "coremltools.models.model.MLModel"
            ]
          },
          "metadata": {
            "tags": []
          },
          "execution_count": 31
        }
      ]
    },
    {
      "cell_type": "code",
      "metadata": {
        "id": "kvC9EEFryh1-"
      },
      "source": [
        ""
      ],
      "execution_count": null,
      "outputs": []
    }
  ]
}